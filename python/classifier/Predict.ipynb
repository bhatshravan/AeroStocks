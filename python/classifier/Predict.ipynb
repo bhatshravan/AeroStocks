{
 "cells": [
  {
   "cell_type": "code",
   "execution_count": 38,
   "metadata": {
    "scrolled": true
   },
   "outputs": [],
   "source": [
    "import pandas as pd\n",
    "import numpy as np\n",
    "import tensorflow as tf\n",
    "from sklearn.model_selection import train_test_split\n",
    "from sklearn.metrics import median_absolute_error as mae\n",
    "from sklearn.metrics import mean_squared_error as mse\n",
    "from sklearn.metrics import accuracy_score\n",
    "import matplotlib.pyplot as plt\n",
    "import math\n",
    "\n",
    "from keras.models import Sequential\n",
    "from keras import initializers\n",
    "from keras.models import load_model\n",
    "from keras.layers import Dropout, Activation, Embedding, Convolution1D, MaxPooling1D, Input, Dense, BatchNormalization, Flatten, Reshape, Concatenate\n",
    "from keras.layers.recurrent import LSTM, GRU\n",
    "from keras.models import Model\n",
    "from keras.optimizers import Adam, SGD, RMSprop\n",
    "from keras import regularizers\n",
    "from sklearn.model_selection import train_test_split\n",
    "from tensorflow.keras import optimizers\n",
    "from keras import metrics\n",
    "from time import time\n",
    "\n",
    "from tensorflow.keras.callbacks import EarlyStopping\n",
    "\n",
    "early_stopping_monitor = EarlyStopping(patience=3)"
   ]
  },
  {
   "cell_type": "code",
   "execution_count": 2,
   "metadata": {
    "scrolled": true
   },
   "outputs": [
    {
     "name": "stdout",
     "output_type": "stream",
     "text": [
      "    vader  secscore  assoc  perc\n",
      "11   0.67      0.27   0.13 -1.57\n",
      "17  -0.13      0.00  -0.03  1.11\n",
      "24   0.51      0.00   0.13  0.06\n",
      "28   0.38      0.00   0.13 -0.37\n",
      "30   0.42      0.00   0.13  1.45\n"
     ]
    }
   ],
   "source": [
    "df = pd.read_csv(\"../data/classifier/FinalScores/scores76.csv\")\n",
    "df = df[(df.vader!=0)]\n",
    "df = df[(df.perc!=0)]\n",
    "df = df[[\"vader\",\"secscore\",\"assoc\",\"perc\"]]\n",
    "\n",
    "predictors = ['vader','secscore','assoc']\n",
    "# predictors = ['vader','assoc']\n",
    "target = ['perc']\n",
    "\n",
    "print(df.head())"
   ]
  },
  {
   "cell_type": "code",
   "execution_count": 46,
   "metadata": {
    "scrolled": true
   },
   "outputs": [
    {
     "name": "stdout",
     "output_type": "stream",
     "text": [
      "(6661, 3) (6661, 1)\n",
      "(1666, 3) (1666, 1)\n",
      "(8327, 3) (8327, 1)\n"
     ]
    }
   ],
   "source": [
    "X = df.drop(target, axis=1).values\n",
    "Y = df[['perc']].values\n",
    "X_train, X_test, y_train, y_test = train_test_split(X, Y, test_size=0.2,shuffle=True)\n",
    "\n",
    "\n",
    "print(X_train.shape, y_train.shape)\n",
    "print(X_test.shape, y_test.shape)\n",
    "print(X.shape,Y.shape)"
   ]
  },
  {
   "cell_type": "code",
   "execution_count": 47,
   "metadata": {
    "scrolled": true
   },
   "outputs": [],
   "source": [
    "def getAcc(losss,optimizerss,activationss,X_test,y_test,model):\n",
    "  accs=0\n",
    "  accs2=0\n",
    "  for idx,row in enumerate(X_test):\n",
    "    in1 = X_test[idx][0]\n",
    "    in2 = X_test[idx][1]\n",
    "    in3 = X_test[idx][2]\n",
    "#     if(idx>200):\n",
    "#       break\n",
    "    \n",
    "    input_val = np.asarray([[in1,in2,in3]])\n",
    "#     input_val = np.asarray([[in1,in2]])\n",
    "    output_val = y_test[idx][0]\n",
    "\n",
    "    prediction = model.predict(input_val)\n",
    " \n",
    "    if(prediction>0 and output_val>0):\n",
    "      accs=accs+1\n",
    "    elif(prediction<0 and output_val<0):\n",
    "      accs=accs+1\n",
    "    else:\n",
    "      accs2=accs2+1\n",
    "\n",
    "  print(losss,optimizerss,activationss,(accs/(accs2+accs))*100)\n",
    "\n",
    "\n",
    "\n",
    "def getAcc2(model,X_test,y_test):\n",
    "    predictions = model.predict(X_test)\n",
    "    y_pred = []\n",
    "    test_y = []\n",
    "    for y in predictions.tolist():\n",
    "        if y[0]>0:\n",
    "            y_pred.append(1)\n",
    "        else:\n",
    "            y_pred.append(-1)\n",
    "\n",
    "    for y in y_test.tolist():\n",
    "        if y[0]>0:\n",
    "            test_y.append(1)\n",
    "        else:\n",
    "            test_y.append(-1)\n",
    "\n",
    "    print(accuracy_score(test_y,y_pred))"
   ]
  },
  {
   "cell_type": "code",
   "execution_count": 48,
   "metadata": {
    "scrolled": true
   },
   "outputs": [
    {
     "name": "stdout",
     "output_type": "stream",
     "text": [
      "Train on 6661 samples, validate on 1666 samples\n",
      "Epoch 1/20\n",
      "6661/6661 [==============================] - 2s 292us/sample - loss: -0.4842 - mean_absolute_error: 1.5670 - categorical_accuracy: 1.0000 - accuracy: 0.0000e+00 - val_loss: -0.7326 - val_mean_absolute_error: 1.6035 - val_categorical_accuracy: 1.0000 - val_accuracy: 0.0000e+00\n",
      "Epoch 2/20\n",
      "6661/6661 [==============================] - 0s 65us/sample - loss: -0.5198 - mean_absolute_error: 1.5658 - categorical_accuracy: 1.0000 - accuracy: 0.0000e+00 - val_loss: -0.7326 - val_mean_absolute_error: 1.6035 - val_categorical_accuracy: 1.0000 - val_accuracy: 0.0000e+00\n",
      "Epoch 3/20\n",
      "6661/6661 [==============================] - 0s 71us/sample - loss: -0.5198 - mean_absolute_error: 1.5658 - categorical_accuracy: 1.0000 - accuracy: 0.0000e+00 - val_loss: -0.7326 - val_mean_absolute_error: 1.6035 - val_categorical_accuracy: 1.0000 - val_accuracy: 0.0000e+00\n",
      "Epoch 4/20\n",
      "6661/6661 [==============================] - 0s 62us/sample - loss: -0.5198 - mean_absolute_error: 1.5658 - categorical_accuracy: 1.0000 - accuracy: 0.0000e+00 - val_loss: -0.7326 - val_mean_absolute_error: 1.6035 - val_categorical_accuracy: 1.0000 - val_accuracy: 0.0000e+00\n",
      "Took  3.4184787273406982\n"
     ]
    }
   ],
   "source": [
    "#compile the model\n",
    "# lossss = ['mean_squared_error','mean_absolute_error','squared_hinge','logcosh','sparse_categorical_crossentropy','poisson'] \n",
    "# activationsss = ['elu','relu','softmax','selu','sigmoid','linear','tanh']\n",
    "\n",
    "optimizersss = ['rmsprop','adam','sgd','adagrad','adadelta','adamax','nadam']\n",
    "lossss = ['mean_squared_error','mean_absolute_error','squared_hinge','logcosh','poisson'] \n",
    "activationsss = ['elu','relu','softmax','selu','sigmoid','linear','tanh']\n",
    "\n",
    "optimizer='adamax'\n",
    "activation='selu'\n",
    "losss='binary_crossentropy'\n",
    "\n",
    "ts = time()\n",
    "\n",
    "# for optimizer in optimizersss:\n",
    "#   for losss in lossss:\n",
    "#     for activation in activationsss:\n",
    "model = tf.keras.Sequential()\n",
    "model.add(tf.keras.layers.Dense(64, activation=activation,input_shape=(X_train.shape[1],)))\n",
    "model.add(tf.keras.layers.Dense(132, activation=activation))\n",
    "model.add(tf.keras.layers.Dense(64, activation=activation))\n",
    "model.add(tf.keras.layers.Dense(1))\n",
    "model.compile(loss=losss, optimizer=optimizer,metrics=[metrics.mae, metrics.categorical_accuracy,metrics.accuracy])\n",
    "\n",
    "\n",
    "# Train the model\n",
    "# train_model = model.fit(X[0:],Y[0:],epochs=20,verbose=True)\n",
    "\n",
    "train_model = model.fit(X_train[0:],y_train[0:],validation_data=(X_test,y_test),epochs=20,verbose=True,callbacks=[early_stopping_monitor])\n",
    "print(\"Took \", time() - ts)"
   ]
  },
  {
   "cell_type": "code",
   "execution_count": 49,
   "metadata": {},
   "outputs": [
    {
     "name": "stdout",
     "output_type": "stream",
     "text": [
      "adamax binary_crossentropy selu 53.00120048019208\n",
      "Took  65.71901226043701\n"
     ]
    }
   ],
   "source": [
    "getAcc(optimizer,losss,activation,X_test,y_test,model)\n",
    "getAcc2()\n",
    "print(\"Took \", time() - ts)"
   ]
  },
  {
   "cell_type": "code",
   "execution_count": 69,
   "metadata": {
    "scrolled": true
   },
   "outputs": [
    {
     "name": "stdout",
     "output_type": "stream",
     "text": [
      "[-0.732638754180911, 1.6035084, 1.0, 0.0]\n",
      "1666\n",
      "0.5300120048019208\n"
     ]
    },
    {
     "data": {
      "text/plain": [
       "Text(0, 0.5, 'Predictions')"
      ]
     },
     "execution_count": 69,
     "metadata": {},
     "output_type": "execute_result"
    },
    {
     "data": {
      "image/png": "[encoded data removed]",
      "text/plain": [
       "<Figure size 432x288 with 1 Axes>"
      ]
     },
     "metadata": {
      "needs_background": "light"
     },
     "output_type": "display_data"
    }
   ],
   "source": [
    "#Evaluate\n",
    "\n",
    "# model = tf.keras.models.load_model('./models/model2.h5')\n",
    "\n",
    "results = (model.evaluate(X_test,y_test, batch_size=10,verbose=False))\n",
    "print(results)\n",
    "\n",
    "plt.scatter(y_test, predictions)\n",
    "plt.xlabel(\"True Values\")\n",
    "plt.ylabel(\"Predictions\")"
   ]
  },
  {
   "cell_type": "code",
   "execution_count": 13,
   "metadata": {},
   "outputs": [],
   "source": [
    "# save model\n",
    "model.save(\"./models/model2.h5\")\n",
    "\n",
    "#load model\n",
    "model = tf.keras.models.load_model('./models/model2.h5')"
   ]
  },
  {
   "cell_type": "code",
   "execution_count": null,
   "metadata": {
    "scrolled": true
   },
   "outputs": [],
   "source": [
    "# import csv\n",
    "\n",
    "# # df2 = pd.read_csv('/content/testtt.csv')\n",
    "# # for idx,\n",
    "\n",
    "# input_val = ([[-0.232,-0.23]])\n",
    "# input_val = np.asarray(input_val)\n",
    "\n",
    "# prediction = model.predict(input_val)\n",
    "\n",
    "# inputFileOpen = open('/content/test2.csv', \"r\", encoding=\"utf-8\")\n",
    "\n",
    "# inputFile = csv.reader(inputFileOpen)\n",
    "\n",
    "# accs=0\n",
    "# accs2=0\n",
    "# for idx, row in enumerate(inputFile):\n",
    "#   if idx==0:\n",
    "#     continue\n",
    "#   in1=float(row[0])\n",
    "#   # if(in1==0.0 or in1==0):\n",
    "#   #   continue\n",
    "\n",
    "#   in2=float(row[1])\n",
    "\n",
    "#   input_val = ([[in1,in2]])\n",
    "#   output_val = float(row[2])\n",
    "#   input_val = np.asarray(input_val)\n",
    "#   prediction = model.predict(input_val)\n",
    "\n",
    "#   if(prediction>0 and output_val>0):\n",
    "#     accs=accs+1\n",
    "#     # print(\"Correct: \",prediction,output_val)\n",
    "#   elif(prediction<0 and output_val<0):\n",
    "#     accs=accs+1\n",
    "#     # print(\"Correct: \",prediction,output_val)\n",
    "#   else:\n",
    "#     accs2=accs2+1\n",
    "\n",
    "# print((accs/(accs2+accs))*100)"
   ]
  }
 ],
 "metadata": {
  "kernelspec": {
   "display_name": "Python 3",
   "language": "python",
   "name": "python3"
  },
  "language_info": {
   "codemirror_mode": {
    "name": "ipython",
    "version": 3
   },
   "file_extension": ".py",
   "mimetype": "text/x-python",
   "name": "python",
   "nbconvert_exporter": "python",
   "pygments_lexer": "ipython3",
   "version": "3.7.6"
  }
 },
 "nbformat": 4,
 "nbformat_minor": 2
}
