{
 "cells": [
  {
   "cell_type": "code",
   "execution_count": 1,
   "metadata": {
    "scrolled": true
   },
   "outputs": [
    {
     "ename": "ModuleNotFoundError",
     "evalue": "No module named 'tensorflow'",
     "output_type": "error",
     "traceback": [
      "\u001b[0;31m---------------------------------------------------------------------------\u001b[0m",
      "\u001b[0;31mModuleNotFoundError\u001b[0m                       Traceback (most recent call last)",
      "\u001b[0;32m<ipython-input-1-926a79ab49cc>\u001b[0m in \u001b[0;36m<module>\u001b[0;34m\u001b[0m\n\u001b[1;32m      1\u001b[0m \u001b[0;32mimport\u001b[0m \u001b[0mpandas\u001b[0m \u001b[0;32mas\u001b[0m \u001b[0mpd\u001b[0m\u001b[0;34m\u001b[0m\u001b[0;34m\u001b[0m\u001b[0m\n\u001b[1;32m      2\u001b[0m \u001b[0;32mimport\u001b[0m \u001b[0mnumpy\u001b[0m \u001b[0;32mas\u001b[0m \u001b[0mnp\u001b[0m\u001b[0;34m\u001b[0m\u001b[0;34m\u001b[0m\u001b[0m\n\u001b[0;32m----> 3\u001b[0;31m \u001b[0;32mimport\u001b[0m \u001b[0mtensorflow\u001b[0m \u001b[0;32mas\u001b[0m \u001b[0mtf\u001b[0m\u001b[0;34m\u001b[0m\u001b[0;34m\u001b[0m\u001b[0m\n\u001b[0m\u001b[1;32m      4\u001b[0m \u001b[0;32mfrom\u001b[0m \u001b[0msklearn\u001b[0m\u001b[0;34m.\u001b[0m\u001b[0mmodel_selection\u001b[0m \u001b[0;32mimport\u001b[0m \u001b[0mtrain_test_split\u001b[0m\u001b[0;34m\u001b[0m\u001b[0;34m\u001b[0m\u001b[0m\n\u001b[1;32m      5\u001b[0m \u001b[0;32mfrom\u001b[0m \u001b[0msklearn\u001b[0m\u001b[0;34m.\u001b[0m\u001b[0mmetrics\u001b[0m \u001b[0;32mimport\u001b[0m \u001b[0mmedian_absolute_error\u001b[0m \u001b[0;32mas\u001b[0m \u001b[0mmae\u001b[0m\u001b[0;34m\u001b[0m\u001b[0;34m\u001b[0m\u001b[0m\n",
      "\u001b[0;31mModuleNotFoundError\u001b[0m: No module named 'tensorflow'"
     ]
    }
   ],
   "source": [
    "import pandas as pd\n",
    "import numpy as np\n",
    "import tensorflow as tf\n",
    "from sklearn.model_selection import train_test_split\n",
    "from sklearn.metrics import median_absolute_error as mae\n",
    "from sklearn.metrics import mean_squared_error as mse\n",
    "from sklearn.metrics import accuracy_score\n",
    "from sklearn import metrics as skm\n",
    "import matplotlib.pyplot as plt\n",
    "import math\n",
    "\n",
    "from keras.models import Sequential\n",
    "from keras import initializers\n",
    "from keras.models import load_model\n",
    "from keras.layers import Dropout, Activation, Embedding, Convolution1D, MaxPooling1D, Input, Dense, BatchNormalization, Flatten, Reshape, Concatenate\n",
    "from keras.layers.recurrent import LSTM, GRU\n",
    "from keras.models import Model\n",
    "from keras.optimizers import Adam, SGD, RMSprop\n",
    "from keras import regularizers\n",
    "from sklearn.model_selection import train_test_split\n",
    "from tensorflow.keras import optimizers\n",
    "from time import time\n",
    "from keras import metrics\n",
    "\n",
    "from statistics import mean\n",
    "\n",
    "from tensorflow.keras.callbacks import EarlyStopping\n",
    "\n",
    "# early_stopping_monitor = EarlyStopping(patience=3)"
   ]
  },
  {
   "cell_type": "code",
   "execution_count": 2,
   "metadata": {
    "scrolled": true
   },
   "outputs": [
    {
     "name": "stdout",
     "output_type": "stream",
     "text": [
      "    vader  secscore  assoc  perc\n",
      "11   0.67      0.27   0.13 -1.57\n",
      "17  -0.13      0.00  -0.03  1.11\n",
      "24   0.51      0.00   0.13  0.06\n",
      "28   0.38      0.00   0.13 -0.37\n",
      "30   0.42      0.00   0.13  1.45\n"
     ]
    }
   ],
   "source": [
    "# Load the csv file\n",
    "\n",
    "df = pd.read_csv(\"../data/classifier/FinalScores/scores76.csv\")\n",
    "df = df[(df.vader!=0)]\n",
    "df = df[(df.perc!=0)]\n",
    "df = df[[\"vader\",\"secscore\",\"assoc\",\"perc\"]]\n",
    "\n",
    "# predictors = ['vader','secscore','assoc']\n",
    "predictors = ['vader']\n",
    "target = ['perc']\n",
    "\n",
    "print(df.head())"
   ]
  },
  {
   "cell_type": "code",
   "execution_count": 3,
   "metadata": {
    "scrolled": true
   },
   "outputs": [
    {
     "name": "stdout",
     "output_type": "stream",
     "text": [
      "(6661, 3) (6661, 1)\n",
      "(1666, 3) (1666, 1)\n",
      "(8327, 3) (8327, 1)\n"
     ]
    }
   ],
   "source": [
    "# Create training and testing datasets\n",
    "\n",
    "X = df.drop(target, axis=1).values\n",
    "Y = df[['perc']].values\n",
    "X_train, X_test, y_train, y_test = train_test_split(X, Y, test_size=0.2,shuffle=True)\n",
    "\n",
    "\n",
    "print(X_train.shape, y_train.shape)\n",
    "print(X_test.shape, y_test.shape)\n",
    "print(X.shape,Y.shape)"
   ]
  },
  {
   "cell_type": "code",
   "execution_count": 5,
   "metadata": {
    "scrolled": true
   },
   "outputs": [],
   "source": [
    "def getAcc(strins, model,X_test,y_test):\n",
    "    predictions = model.predict(X_test)\n",
    "    y_pred = []\n",
    "    test_y = []\n",
    "    for y in predictions.tolist():\n",
    "        if y[0]>0:\n",
    "            y_pred.append(1)\n",
    "        else:\n",
    "            y_pred.append(-1)\n",
    "            \n",
    "\n",
    "    for y in y_test.tolist():\n",
    "        if y[0]>0:\n",
    "            test_y.append(1)\n",
    "        else:\n",
    "            test_y.append(-1)\n",
    "\n",
    "    acc = round(accuracy_score(test_y,y_pred)*100,2)\n",
    "    cf = skm.confusion_matrix(test_y,y_pred)\n",
    "    print(\"Accuracy  = {}\\nConfusion = \\n{}\".format(acc,cf))\n",
    "#     print(acc,strins)    \n",
    "    return(acc)"
   ]
  },
  {
   "cell_type": "code",
   "execution_count": 7,
   "metadata": {
    "scrolled": true
   },
   "outputs": [
    {
     "name": "stdout",
     "output_type": "stream",
     "text": [
      "Train on 6661 samples\n",
      "Epoch 1/20\n",
      "6661/6661 [==============================] - 0s 70us/sample - loss: 1.0189 - mean_absolute_error: 1.5549 - categorical_accuracy: 1.0000 - accuracy: 0.0000e+00\n",
      "Epoch 2/20\n",
      "6661/6661 [==============================] - 0s 31us/sample - loss: 1.0088 - mean_absolute_error: 1.5535 - categorical_accuracy: 1.0000 - accuracy: 0.0000e+00\n",
      "Epoch 3/20\n",
      "6661/6661 [==============================] - 0s 31us/sample - loss: 1.0055 - mean_absolute_error: 1.5524 - categorical_accuracy: 1.0000 - accuracy: 0.0000e+00\n",
      "Epoch 4/20\n",
      "6661/6661 [==============================] - 0s 41us/sample - loss: 1.0055 - mean_absolute_error: 1.5529 - categorical_accuracy: 1.0000 - accuracy: 0.0000e+00\n",
      "Epoch 5/20\n",
      "6661/6661 [==============================] - 0s 41us/sample - loss: 0.9989 - mean_absolute_error: 1.5520 - categorical_accuracy: 1.0000 - accuracy: 0.0000e+00\n",
      "Epoch 6/20\n",
      "6661/6661 [==============================] - 0s 45us/sample - loss: 1.0013 - mean_absolute_error: 1.5532 - categorical_accuracy: 1.0000 - accuracy: 0.0000e+00\n",
      "Epoch 7/20\n",
      "6661/6661 [==============================] - 0s 35us/sample - loss: 0.9970 - mean_absolute_error: 1.5527 - categorical_accuracy: 1.0000 - accuracy: 0.0000e+00\n",
      "Epoch 8/20\n",
      "6661/6661 [==============================] - 0s 37us/sample - loss: 0.9956 - mean_absolute_error: 1.5530 - categorical_accuracy: 1.0000 - accuracy: 0.0000e+00\n",
      "Epoch 9/20\n",
      "6661/6661 [==============================] - 0s 33us/sample - loss: 0.9979 - mean_absolute_error: 1.5528 - categorical_accuracy: 1.0000 - accuracy: 0.0000e+00\n",
      "Epoch 10/20\n",
      "6661/6661 [==============================] - 0s 36us/sample - loss: 0.9922 - mean_absolute_error: 1.5517 - categorical_accuracy: 1.0000 - accuracy: 0.0000e+00\n",
      "Epoch 11/20\n",
      "6661/6661 [==============================] - 0s 38us/sample - loss: 0.9950 - mean_absolute_error: 1.5524 - categorical_accuracy: 1.0000 - accuracy: 0.0000e+00\n",
      "Epoch 12/20\n",
      "6661/6661 [==============================] - 0s 38us/sample - loss: 1.0017 - mean_absolute_error: 1.5529 - categorical_accuracy: 1.0000 - accuracy: 0.0000e+00\n",
      "Epoch 13/20\n",
      "6661/6661 [==============================] - 0s 43us/sample - loss: 1.0017 - mean_absolute_error: 1.5529 - categorical_accuracy: 1.0000 - accuracy: 0.0000e+00\n",
      "Epoch 14/20\n",
      "6661/6661 [==============================] - 0s 43us/sample - loss: 0.9933 - mean_absolute_error: 1.5522 - categorical_accuracy: 1.0000 - accuracy: 0.0000e+00\n",
      "Epoch 15/20\n",
      "6661/6661 [==============================] - 0s 40us/sample - loss: 0.9961 - mean_absolute_error: 1.5524 - categorical_accuracy: 1.0000 - accuracy: 0.0000e+00\n",
      "Epoch 16/20\n",
      "6661/6661 [==============================] - 0s 40us/sample - loss: 0.9971 - mean_absolute_error: 1.5532 - categorical_accuracy: 1.0000 - accuracy: 0.0000e+00\n",
      "Epoch 17/20\n",
      "6661/6661 [==============================] - 0s 44us/sample - loss: 0.9946 - mean_absolute_error: 1.5521 - categorical_accuracy: 1.0000 - accuracy: 0.0000e+00\n",
      "Epoch 18/20\n",
      "6661/6661 [==============================] - 0s 44us/sample - loss: 0.9969 - mean_absolute_error: 1.5530 - categorical_accuracy: 1.0000 - accuracy: 0.0000e+00\n",
      "Epoch 19/20\n",
      "6661/6661 [==============================] - 0s 39us/sample - loss: 0.9891 - mean_absolute_error: 1.5522 - categorical_accuracy: 1.0000 - accuracy: 0.0000e+00\n",
      "Epoch 20/20\n",
      "6661/6661 [==============================] - 0s 46us/sample - loss: 0.9877 - mean_absolute_error: 1.5516 - categorical_accuracy: 1.0000 - accuracy: 0.0000e+00\n",
      "Accuracy  = 52.52\n",
      "Confusion = \n",
      "[[567 306]\n",
      " [485 308]]\n",
      "Took  5.585024356842041\n"
     ]
    }
   ],
   "source": [
    "#compile the model\n",
    "# lossss = ['mean_squared_error','mean_absolute_error','squared_hinge','logcosh','sparse_categorical_crossentropy','poisson'] \n",
    "# activationsss = ['elu','relu','softmax','selu','sigmoid','linear','tanh']\n",
    "# optimizersss = ['rmsprop','adam','sgd','adagrad','adadelta','adamax','nadam']\n",
    "\n",
    "optimizersss = ['rmsprop','adam','sgd','adagrad','adadelta','adamax']\n",
    "lossss = ['mean_squared_error','mean_absolute_error','squared_hinge'] \n",
    "activationsss = ['relu','softmax','selu','sigmoid','linear']\n",
    "\n",
    "optimizer='adamax'\n",
    "activation='selu'\n",
    "losss='squared_hinge'\n",
    "\n",
    "results = []\n",
    "\n",
    "ts = time()\n",
    "strins = \"\"\n",
    "# for optimizer in optimizersss:\n",
    "#   for losss in lossss:\n",
    "#     for activation in activationsss:\n",
    "model = tf.keras.Sequential()\n",
    "model.add(tf.keras.layers.Dense(64, activation=activation,input_shape=(X_train.shape[1],)))\n",
    "model.add(tf.keras.layers.Dense(132, activation=activation))\n",
    "model.add(tf.keras.layers.Dense(64, activation=activation))\n",
    "model.add(tf.keras.layers.Dense(1))\n",
    "model.compile(loss=losss, optimizer=optimizer,metrics=[metrics.mae, metrics.categorical_accuracy,metrics.accuracy])\n",
    "\n",
    "\n",
    "# Train the model\n",
    "# train_model = model.fit(X_train[0:],y_train[0:],epochs=20,verbose=True,callbacks=[early_stopping_monitor])\n",
    "train_model = model.fit(X_train[0:],y_train[0:],epochs=20,verbose=True)\n",
    "strins = \",\"+optimizer+\",\"+losss+\",\"+activation\n",
    "# Get Accuracy\n",
    "results = getAcc(strins,model,X_test,y_test)\n",
    "        \n",
    "# print(\"Predictors: {} - Acc: {}\".format(predictors,mean(results)))\n",
    "print(\"Took \", time() - ts)"
   ]
  },
  {
   "cell_type": "code",
   "execution_count": 9,
   "metadata": {
    "scrolled": true
   },
   "outputs": [
    {
     "name": "stdout",
     "output_type": "stream",
     "text": [
      "[0.993701609600635, 1.5853777, 1.0, 0.0]\n"
     ]
    },
    {
     "data": {
      "text/plain": [
       "Text(0, 0.5, 'Predictions')"
      ]
     },
     "execution_count": 9,
     "metadata": {},
     "output_type": "execute_result"
    },
    {
     "data": {
      "image/png": "[encoded data removed]",
      "text/plain": [
       "<Figure size 432x288 with 1 Axes>"
      ]
     },
     "metadata": {
      "needs_background": "light"
     },
     "output_type": "display_data"
    }
   ],
   "source": [
    "#Evaluate\n",
    "results = (model.evaluate(X_test,y_test, batch_size=10,verbose=False))\n",
    "print(results)\n",
    "predictions = model.predict(X_test)\n",
    "plt.scatter(y_test, predictions)\n",
    "plt.xlabel(\"True Values\")\n",
    "plt.ylabel(\"Predictions\")"
   ]
  },
  {
   "cell_type": "code",
   "execution_count": null,
   "metadata": {},
   "outputs": [],
   "source": [
    "df['vader'].plot(kind='hist')\n",
    "plt.xlabel(\"Polarity\")\n",
    "plt.ylabel(\"Frequency\")\n",
    "plt.show()"
   ]
  },
  {
   "cell_type": "code",
   "execution_count": null,
   "metadata": {},
   "outputs": [],
   "source": [
    "from wordcloud import WordCloud, STOPWORDS \n",
    "df2 = pd.read_csv(\"/content/firstpost-merged.csv\") \n",
    "df2 = df2['headline']\n",
    "df2.head()\n",
    "\n",
    "stopwords = set(STOPWORDS)\n",
    "stopwords.add('say')\n",
    "stopwords.add('says')\n",
    "stopwords.add('rs')\n",
    "stopwords.add('cr')\n",
    "\n",
    "comment_words = ' '\n",
    "for idx,val in enumerate(df2): \n",
    "      \n",
    "  # typecaste each val to string \n",
    "  val = str(val) \n",
    "\n",
    "  # split the value \n",
    "  tokens = val.split() \n",
    "    \n",
    "  # Converts each token into lowercase \n",
    "  for i in range(len(tokens)): \n",
    "      tokens[i] = tokens[i].lower() \n",
    "        \n",
    "  for words in tokens: \n",
    "    comment_words = comment_words + words + ' '\n",
    "\n",
    "wordcloud = WordCloud(stopwords = stopwords,min_font_size = 10).generate(comment_words) \n",
    "# Display the generated image:\n",
    "plt.imshow(wordcloud)\n",
    "plt.axis(\"off\")\n",
    "plt.show()"
   ]
  },
  {
   "cell_type": "code",
   "execution_count": null,
   "metadata": {},
   "outputs": [],
   "source": [
    "# save model\n",
    "model.save(\"./models/model2.h5\")\n",
    "\n",
    "#load model\n",
    "model = tf.keras.models.load_model('./models/model2.h5')"
   ]
  }
 ],
 "metadata": {
  "kernelspec": {
   "display_name": "Python 3",
   "language": "python",
   "name": "python3"
  },
  "language_info": {
   "codemirror_mode": {
    "name": "ipython",
    "version": 3
   },
   "file_extension": ".py",
   "mimetype": "text/x-python",
   "name": "python",
   "nbconvert_exporter": "python",
   "pygments_lexer": "ipython3",
   "version": "3.8.1"
  }
 },
 "nbformat": 4,
 "nbformat_minor": 2
}
